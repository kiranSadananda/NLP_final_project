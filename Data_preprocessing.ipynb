{
 "cells": [
  {
   "cell_type": "markdown",
   "metadata": {},
   "source": [
    "## Data - Preprocessing"
   ]
  },
  {
   "cell_type": "code",
   "execution_count": 160,
   "metadata": {},
   "outputs": [],
   "source": [
    "import pandas as pd\n",
    "import numpy as np\n",
    "import matplotlib.pyplot as plt\n",
    "%matplotlib inline"
   ]
  },
  {
   "cell_type": "code",
   "execution_count": 161,
   "metadata": {},
   "outputs": [],
   "source": [
    "# Dataset downloaded from https://www.kaggle.com/hariharasudhanas/twitter-emoji-prediction\n",
    "df = pd.read_csv('datasets/Train.csv', index_col=None)\n",
    "df = df.drop(df.columns[0],axis=1)\n",
    "df.columns = ['text','emoji']\n",
    "df_mapping = pd.read_csv('datasets/Mapping.csv',index_col=None)\n",
    "df_mapping = df_mapping.drop(df_mapping.columns[0],axis=1)\n",
    "df_mapping.columns = ['emoji','number']"
   ]
  },
  {
   "cell_type": "code",
   "execution_count": 162,
   "metadata": {},
   "outputs": [
    {
     "data": {
      "text/html": [
       "<div>\n",
       "<style scoped>\n",
       "    .dataframe tbody tr th:only-of-type {\n",
       "        vertical-align: middle;\n",
       "    }\n",
       "\n",
       "    .dataframe tbody tr th {\n",
       "        vertical-align: top;\n",
       "    }\n",
       "\n",
       "    .dataframe thead th {\n",
       "        text-align: right;\n",
       "    }\n",
       "</style>\n",
       "<table border=\"1\" class=\"dataframe\">\n",
       "  <thead>\n",
       "    <tr style=\"text-align: right;\">\n",
       "      <th></th>\n",
       "      <th>text</th>\n",
       "      <th>emoji</th>\n",
       "    </tr>\n",
       "  </thead>\n",
       "  <tbody>\n",
       "    <tr>\n",
       "      <th>0</th>\n",
       "      <td>Vacation wasted ! #vacation2017 #photobomb #ti...</td>\n",
       "      <td>0</td>\n",
       "    </tr>\n",
       "    <tr>\n",
       "      <th>1</th>\n",
       "      <td>Oh Wynwood, you’re so funny! : @user #Wynwood ...</td>\n",
       "      <td>1</td>\n",
       "    </tr>\n",
       "    <tr>\n",
       "      <th>2</th>\n",
       "      <td>Been friends since 7th grade. Look at us now w...</td>\n",
       "      <td>2</td>\n",
       "    </tr>\n",
       "    <tr>\n",
       "      <th>3</th>\n",
       "      <td>This is what it looks like when someone loves ...</td>\n",
       "      <td>3</td>\n",
       "    </tr>\n",
       "    <tr>\n",
       "      <th>4</th>\n",
       "      <td>RT @user this white family was invited to a Bl...</td>\n",
       "      <td>3</td>\n",
       "    </tr>\n",
       "  </tbody>\n",
       "</table>\n",
       "</div>"
      ],
      "text/plain": [
       "                                                text  emoji\n",
       "0  Vacation wasted ! #vacation2017 #photobomb #ti...      0\n",
       "1  Oh Wynwood, you’re so funny! : @user #Wynwood ...      1\n",
       "2  Been friends since 7th grade. Look at us now w...      2\n",
       "3  This is what it looks like when someone loves ...      3\n",
       "4  RT @user this white family was invited to a Bl...      3"
      ]
     },
     "execution_count": 162,
     "metadata": {},
     "output_type": "execute_result"
    }
   ],
   "source": [
    "df.head()"
   ]
  },
  {
   "cell_type": "code",
   "execution_count": 163,
   "metadata": {},
   "outputs": [
    {
     "data": {
      "text/html": [
       "<div>\n",
       "<style scoped>\n",
       "    .dataframe tbody tr th:only-of-type {\n",
       "        vertical-align: middle;\n",
       "    }\n",
       "\n",
       "    .dataframe tbody tr th {\n",
       "        vertical-align: top;\n",
       "    }\n",
       "\n",
       "    .dataframe thead th {\n",
       "        text-align: right;\n",
       "    }\n",
       "</style>\n",
       "<table border=\"1\" class=\"dataframe\">\n",
       "  <thead>\n",
       "    <tr style=\"text-align: right;\">\n",
       "      <th></th>\n",
       "      <th>emoji</th>\n",
       "      <th>number</th>\n",
       "    </tr>\n",
       "  </thead>\n",
       "  <tbody>\n",
       "    <tr>\n",
       "      <th>0</th>\n",
       "      <td>😜</td>\n",
       "      <td>0</td>\n",
       "    </tr>\n",
       "    <tr>\n",
       "      <th>1</th>\n",
       "      <td>📸</td>\n",
       "      <td>1</td>\n",
       "    </tr>\n",
       "    <tr>\n",
       "      <th>2</th>\n",
       "      <td>😍</td>\n",
       "      <td>2</td>\n",
       "    </tr>\n",
       "    <tr>\n",
       "      <th>3</th>\n",
       "      <td>😂</td>\n",
       "      <td>3</td>\n",
       "    </tr>\n",
       "    <tr>\n",
       "      <th>4</th>\n",
       "      <td>😉</td>\n",
       "      <td>4</td>\n",
       "    </tr>\n",
       "  </tbody>\n",
       "</table>\n",
       "</div>"
      ],
      "text/plain": [
       "  emoji  number\n",
       "0     😜       0\n",
       "1     📸       1\n",
       "2     😍       2\n",
       "3     😂       3\n",
       "4     😉       4"
      ]
     },
     "execution_count": 163,
     "metadata": {},
     "output_type": "execute_result"
    }
   ],
   "source": [
    "df_mapping.head()"
   ]
  },
  {
   "cell_type": "code",
   "execution_count": 164,
   "metadata": {},
   "outputs": [
    {
     "name": "stdout",
     "output_type": "stream",
     "text": [
      "<class 'pandas.core.frame.DataFrame'>\n",
      "RangeIndex: 70000 entries, 0 to 69999\n",
      "Data columns (total 2 columns):\n",
      " #   Column  Non-Null Count  Dtype \n",
      "---  ------  --------------  ----- \n",
      " 0   text    70000 non-null  object\n",
      " 1   emoji   70000 non-null  int64 \n",
      "dtypes: int64(1), object(1)\n",
      "memory usage: 1.1+ MB\n"
     ]
    }
   ],
   "source": [
    "df.info()"
   ]
  },
  {
   "cell_type": "markdown",
   "metadata": {},
   "source": [
    "### Checking null values"
   ]
  },
  {
   "cell_type": "code",
   "execution_count": 165,
   "metadata": {},
   "outputs": [
    {
     "data": {
      "text/plain": [
       "text     0\n",
       "emoji    0\n",
       "dtype: int64"
      ]
     },
     "execution_count": 165,
     "metadata": {},
     "output_type": "execute_result"
    }
   ],
   "source": [
    "df.isnull().sum()"
   ]
  },
  {
   "cell_type": "markdown",
   "metadata": {},
   "source": [
    "### Removing duplicates\n"
   ]
  },
  {
   "cell_type": "code",
   "execution_count": 166,
   "metadata": {},
   "outputs": [
    {
     "name": "stdout",
     "output_type": "stream",
     "text": [
      "Duplicate Rows except first occurrence based on all columns are :\n",
      "                                                    text  emoji\n",
      "2697   WE WILL BE CLOSED ON THE 4th OF JULY. And it's...     11\n",
      "3857   ... COME OUT AND PARTY WITH US at membersonlye...     16\n",
      "9163                        ️ @ Disney's Magic Kingdom\\n      9\n",
      "11110                    ️ @ Epcot - Walt Disney World\\n      9\n",
      "12357                    ️ @ Epcot - Walt Disney World\\n      9\n",
      "...                                                  ...    ...\n",
      "67887                         @ Disney's Magic Kingdom\\n     13\n",
      "68057                         @ Disney's Magic Kingdom\\n     13\n",
      "68938                    @ Times Square, New York City\\n      3\n",
      "69430                    @ Arlington National Cemetery\\n     11\n",
      "69465                             @ New York, New York\\n      8\n",
      "\n",
      "[69 rows x 2 columns]\n"
     ]
    }
   ],
   "source": [
    "# Select duplicate rows except first occurrence based on all columns\n",
    "duplicates = df[df.duplicated()]\n",
    "print(\"Duplicate rows:\")\n",
    "print(duplicates)"
   ]
  },
  {
   "cell_type": "code",
   "execution_count": 167,
   "metadata": {},
   "outputs": [
    {
     "name": "stdout",
     "output_type": "stream",
     "text": [
      "<class 'pandas.core.frame.DataFrame'>\n",
      "Int64Index: 69832 entries, 0 to 69999\n",
      "Data columns (total 2 columns):\n",
      " #   Column  Non-Null Count  Dtype \n",
      "---  ------  --------------  ----- \n",
      " 0   text    69832 non-null  object\n",
      " 1   emoji   69832 non-null  int64 \n",
      "dtypes: int64(1), object(1)\n",
      "memory usage: 1.6+ MB\n"
     ]
    }
   ],
   "source": [
    "df = df.drop_duplicates(subset = ['text'],keep='first')\n",
    "df.info()"
   ]
  },
  {
   "cell_type": "code",
   "execution_count": 142,
   "metadata": {},
   "outputs": [
    {
     "name": "stdout",
     "output_type": "stream",
     "text": [
      "    number  counts emoji\n",
      "0        9   15067     ❤\n",
      "1        2    7053     😍\n",
      "2        3    6835     😂\n",
      "3        7    4357     🔥\n",
      "4       15    3835     💕\n",
      "5       13    3235     ✨\n",
      "6       16    2817     😎\n",
      "7       17    2743     😊\n",
      "8        1    2588     📸\n",
      "9       11    2419    🇺🇸\n",
      "10      14    2336     💙\n",
      "11       6    2081     📷\n",
      "12       8    1985     😘\n",
      "13       5    1971     🎄\n",
      "14      12    1905     ☀\n",
      "15       4    1874     😉\n",
      "16      19    1740     💯\n",
      "17      18    1720     💜\n",
      "18      10    1716     😁\n",
      "19       0    1555     😜\n"
     ]
    }
   ],
   "source": [
    "counts = df.emoji.value_counts().rename_axis('number').reset_index(name='counts')\n",
    "emojis = df_mapping.emoji[counts.number]\n",
    "counts = counts.assign(emoji = emojis.values)\n",
    "print(counts)"
   ]
  },
  {
   "cell_type": "markdown",
   "metadata": {},
   "source": [
    "Remove 14,8,18<br>\n",
    "9,15,2 ==> 9<br>\n",
    "1,6 ==> 6<br>\n",
    "\n"
   ]
  },
  {
   "cell_type": "markdown",
   "metadata": {},
   "source": [
    "### Merging similar emojis together"
   ]
  },
  {
   "cell_type": "code",
   "execution_count": 143,
   "metadata": {},
   "outputs": [
    {
     "name": "stdout",
     "output_type": "stream",
     "text": [
      "{0, 1, 2, 3, 4, 5, 6, 7, 9, 10, 11, 12, 13, 15, 16, 17, 19}\n"
     ]
    }
   ],
   "source": [
    "df = df.drop(df[(df.emoji).isin([18,14,8])].index)\n",
    "print(set(df.emoji))"
   ]
  },
  {
   "cell_type": "code",
   "execution_count": 144,
   "metadata": {},
   "outputs": [],
   "source": [
    "df.loc[df.emoji.isin([9,2,15]), 'emoji']= 9 \n",
    "df.loc[df.emoji.isin([1,6]), 'emoji']= 6 \n"
   ]
  },
  {
   "cell_type": "code",
   "execution_count": 145,
   "metadata": {},
   "outputs": [
    {
     "name": "stdout",
     "output_type": "stream",
     "text": [
      "{0, 3, 4, 5, 6, 7, 9, 10, 11, 12, 13, 16, 17, 19}\n"
     ]
    }
   ],
   "source": [
    "print((set(df.emoji)))\n"
   ]
  },
  {
   "cell_type": "code",
   "execution_count": 146,
   "metadata": {},
   "outputs": [
    {
     "name": "stdout",
     "output_type": "stream",
     "text": [
      "    number  counts emoji\n",
      "0        9   25955     ❤\n",
      "1        3    6835     😂\n",
      "2        6    4669     📷\n",
      "3        7    4357     🔥\n",
      "4       13    3235     ✨\n",
      "5       16    2817     😎\n",
      "6       17    2743     😊\n",
      "7       11    2419    🇺🇸\n",
      "8        5    1971     🎄\n",
      "9       12    1905     ☀\n",
      "10       4    1874     😉\n",
      "11      19    1740     💯\n",
      "12      10    1716     😁\n",
      "13       0    1555     😜\n"
     ]
    }
   ],
   "source": [
    "counts = df.emoji.value_counts().rename_axis('number').reset_index(name='counts')\n",
    "emojis = df_mapping.emoji[counts.number]\n",
    "counts = counts.assign(emoji = emojis.values)\n",
    "print(counts)"
   ]
  },
  {
   "cell_type": "code",
   "execution_count": 147,
   "metadata": {},
   "outputs": [
    {
     "name": "stdout",
     "output_type": "stream",
     "text": [
      "{9: 0, 3: 1, 6: 2, 7: 3, 13: 4, 16: 5, 17: 6, 11: 7, 5: 8, 12: 9, 4: 10, 19: 11, 10: 12, 0: 13}\n"
     ]
    }
   ],
   "source": [
    "new_mapping = dict(zip(counts.number,counts.index))\n",
    "\n",
    "print(new_mapping)\n"
   ]
  },
  {
   "cell_type": "code",
   "execution_count": 148,
   "metadata": {},
   "outputs": [
    {
     "name": "stdout",
     "output_type": "stream",
     "text": [
      "{0, 1, 2, 3, 4, 5, 6, 7, 8, 9, 10, 11, 12, 13}\n"
     ]
    }
   ],
   "source": [
    "new_df = df.replace({'emoji':new_mapping})\n",
    "print((set(new_df.emoji)))"
   ]
  },
  {
   "cell_type": "code",
   "execution_count": null,
   "metadata": {},
   "outputs": [],
   "source": [
    "new_mapping = counts.assign(index = counts.index)\n",
    "new_mapping = new_mapping.drop(columns=['number'])\n",
    "new_mapping = new_mapping.rename(columns={'index': 'number'})\n",
    "print(new_mapping)\n",
    "new_mapping.to_csv('datasets/new_mapping.csv',index=False)\n",
    "new_df.to_csv('datasets/new_data.csv',index=False)"
   ]
  },
  {
   "cell_type": "markdown",
   "metadata": {},
   "source": [
    "### Removing short tweets"
   ]
  },
  {
   "cell_type": "code",
   "execution_count": 150,
   "metadata": {},
   "outputs": [],
   "source": [
    "count = new_df['text'].str.split().str.len()\n",
    "new_df = new_df[count>5]"
   ]
  },
  {
   "cell_type": "code",
   "execution_count": 151,
   "metadata": {},
   "outputs": [
    {
     "name": "stdout",
     "output_type": "stream",
     "text": [
      "    number  counts emoji\n",
      "0        0   24554     ❤\n",
      "1        1    6319     😂\n",
      "2        2    4532     📷\n",
      "3        3    4097     🔥\n",
      "4        4    3049     ✨\n",
      "5        5    2622     😎\n",
      "6        6    2573     😊\n",
      "7        7    2247    🇺🇸\n",
      "8        8    1867     🎄\n",
      "9       10    1811     😉\n",
      "10       9    1785     ☀\n",
      "11      12    1616     😁\n",
      "12      11    1558     💯\n",
      "13      13    1498     😜\n"
     ]
    }
   ],
   "source": [
    "counts = new_df.emoji.value_counts().rename_axis('number').reset_index(name='counts')\n",
    "emojis = new_mapping.emoji[counts.number]\n",
    "counts = counts.assign(emoji = emojis.values)\n",
    "print(counts)"
   ]
  },
  {
   "cell_type": "code",
   "execution_count": 152,
   "metadata": {},
   "outputs": [
    {
     "name": "stdout",
     "output_type": "stream",
     "text": [
      "(60128, 2)\n"
     ]
    }
   ],
   "source": [
    "print(new_df.shape)\n",
    "counts.to_csv('datasets/cleaned_mapping.csv',index=False)\n",
    "new_df.to_csv('datasets/cleaned_data.csv',index=False)"
   ]
  },
  {
   "cell_type": "markdown",
   "metadata": {},
   "source": [
    "### Generating balanced Datasest"
   ]
  },
  {
   "cell_type": "code",
   "execution_count": 153,
   "metadata": {},
   "outputs": [
    {
     "name": "stdout",
     "output_type": "stream",
     "text": [
      "(60128, 2)\n",
      "(60128, 2)\n"
     ]
    },
    {
     "data": {
      "text/plain": [
       "(24554, 2)"
      ]
     },
     "execution_count": 153,
     "metadata": {},
     "output_type": "execute_result"
    }
   ],
   "source": [
    "print(new_df.shape)\n",
    "balanced_df = new_df\n",
    "print(balanced_df.shape)\n",
    "balanced_df[balanced_df.emoji==tup[0]].shape"
   ]
  },
  {
   "cell_type": "code",
   "execution_count": 154,
   "metadata": {},
   "outputs": [
    {
     "name": "stdout",
     "output_type": "stream",
     "text": [
      "24554 14554\n"
     ]
    }
   ],
   "source": [
    "desired_rows = 10000\n",
    "\n",
    "for tup in zip(counts.number,counts.counts):\n",
    "    if(tup[1]>desired_rows):\n",
    "        delete_rows = tup[1] - desired_rows\n",
    "        print(tup[1],delete_rows)\n",
    "        balanced_df.drop(balanced_df[balanced_df.emoji==tup[0]].sample(n=delete_rows).index,inplace=True)"
   ]
  },
  {
   "cell_type": "code",
   "execution_count": 155,
   "metadata": {},
   "outputs": [
    {
     "name": "stdout",
     "output_type": "stream",
     "text": [
      "    number  counts emoji\n",
      "0        0   10000     ❤\n",
      "1        1    6319     😂\n",
      "2        2    4532     📷\n",
      "3        3    4097     🔥\n",
      "4        4    3049     ✨\n",
      "5        5    2622     😎\n",
      "6        6    2573     😊\n",
      "7        7    2247    🇺🇸\n",
      "8        8    1867     🎄\n",
      "9        9    1785     ☀\n",
      "10      10    1811     😉\n",
      "11      11    1558     💯\n",
      "12      12    1616     😁\n",
      "13      13    1498     😜\n"
     ]
    }
   ],
   "source": [
    "counts = balanced_df.emoji.value_counts(sort=False).rename_axis('number').reset_index(name='counts')\n",
    "emojis = new_mapping.emoji[counts.number]\n",
    "counts = counts.assign(emoji = emojis.values)\n",
    "print(counts)"
   ]
  },
  {
   "cell_type": "code",
   "execution_count": 156,
   "metadata": {},
   "outputs": [],
   "source": [
    "counts.to_csv('datasets/balanced_mapping.csv',index=False)\n",
    "new_df.to_csv('datasets/balanced_data.csv',index=False)\n",
    "print(new_df.shape)"
   ]
  },
  {
   "cell_type": "markdown",
   "metadata": {},
   "source": [
    "### Generating Toy Dataset"
   ]
  },
  {
   "cell_type": "code",
   "execution_count": 157,
   "metadata": {},
   "outputs": [],
   "source": [
    "toy_df = new_df\n",
    "toy_mapping = counts\n",
    "desired_rows = 100\n",
    "for tup in zip(toy_mapping.number,toy_mapping.counts):\n",
    "    if(tup[1]>desired_rows):\n",
    "        delete_rows = tup[1] - desired_rows\n",
    "        toy_df.drop(toy_df[toy_df.emoji==tup[0]].sample(n=delete_rows).index,inplace=True)"
   ]
  },
  {
   "cell_type": "code",
   "execution_count": 158,
   "metadata": {},
   "outputs": [
    {
     "name": "stdout",
     "output_type": "stream",
     "text": [
      "    number  counts emoji\n",
      "0        0     100     ❤\n",
      "1        1     100     😂\n",
      "2        2     100     📷\n",
      "3        3     100     🔥\n",
      "4        4     100     ✨\n",
      "5        5     100     😎\n",
      "6        6     100     😊\n",
      "7        7     100    🇺🇸\n",
      "8        8     100     🎄\n",
      "9        9     100     ☀\n",
      "10      10     100     😉\n",
      "11      11     100     💯\n",
      "12      12     100     😁\n",
      "13      13     100     😜\n"
     ]
    }
   ],
   "source": [
    "toy_counts = toy_df.emoji.value_counts(sort=False).rename_axis('number').reset_index(name='counts')\n",
    "emojis = toy_mapping.emoji[toy_counts.number]\n",
    "toy_counts = toy_counts.assign(emoji = emojis.values)\n",
    "print(toy_counts)"
   ]
  },
  {
   "cell_type": "code",
   "execution_count": 159,
   "metadata": {},
   "outputs": [],
   "source": [
    "toy_counts.to_csv('datasets/toy_mapping.csv',index=False)\n",
    "toy_df.to_csv('datasets/toy_data.csv',index=False)"
   ]
  }
 ],
 "metadata": {
  "kernelspec": {
   "display_name": "Python 3",
   "language": "python",
   "name": "python3"
  },
  "language_info": {
   "codemirror_mode": {
    "name": "ipython",
    "version": 3
   },
   "file_extension": ".py",
   "mimetype": "text/x-python",
   "name": "python",
   "nbconvert_exporter": "python",
   "pygments_lexer": "ipython3",
   "version": "3.7.7"
  }
 },
 "nbformat": 4,
 "nbformat_minor": 4
}
