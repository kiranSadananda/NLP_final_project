{
 "cells": [
  {
   "cell_type": "code",
   "execution_count": null,
   "metadata": {},
   "outputs": [],
   "source": [
    "import os\n",
    "import math\n",
    "import multiprocessing\n",
    "import numpy as np\n",
    "import pandas as pd\n",
    "import random as rn\n",
    "import matplotlib.pyplot as plt\n",
    "import tensorflow as tf\n",
    "from gensim.models import Word2Vec as w2v\n",
    "import nltk\n",
    "import keras\n",
    "from keras.models import Sequential\n",
    "from keras.layers import Dense, Dropout, Activation, Embedding, LSTM\n",
    "from keras.utils import np_utils\n",
    "from keras.preprocessing.sequence import pad_sequences\n",
    "from keras.preprocessing.text import Tokenizer\n",
    "from keras.layers.wrappers import Bidirectional\n",
    "from evaluate import plot_confusion_matrix,calculate_performance_metrics\n",
    " \n",
    "SEED = 123456\n",
    "\n",
    "\n",
    "os.environ['PYTHONHASHSEED']=str(SEED)\n",
    "np.random.seed(SEED)\n",
    "tf.random.set_seed(SEED)\n",
    "rn.seed(SEED)\n",
    "\n",
    "physical_devices = tf.config.list_physical_devices('GPU') \n",
    "tf.config.experimental.set_memory_growth(physical_devices[0], True)"
   ]
  },
  {
   "cell_type": "code",
   "execution_count": null,
   "metadata": {},
   "outputs": [],
   "source": [
    "class word2vec:\n",
    "    def __init__(self, tweet_file=None,tweets=None, num_features=100, min_word_count=3,context_size=7,downsampling=1e-3,seed=1,epochs=12):\n",
    "        self.file = tweet_file\n",
    "        self.tweets = tweets\n",
    "        self.num_features = num_features\n",
    "        self.min_word_count = min_word_count\n",
    "        self.context_size = context_size\n",
    "        self.downsampling = downsampling\n",
    "        self.epochs=epochs\n",
    "        self.seed = seed\n",
    "\n",
    "    def preprocess_tweets(self):\n",
    "        #Tokenizes tweets to words\n",
    "        raw_sentences = []\n",
    "        if self.file is not None:\n",
    "            tweets = open(self.file, \"r\",encoding=\"utf8\")\n",
    "        else:\n",
    "            tweets = self.tweets\n",
    "        for tweet in tweets:\n",
    "            raw_sentences.append(nltk.word_tokenize(tweet))\n",
    "        self.sentences = raw_sentences\n",
    "\n",
    "\n",
    "    def make_model(self):\n",
    "        #Train model for word2vec vectors on your dataset\n",
    "            self.tweet2vec = w2v(\n",
    "            sg = 1,\n",
    "            seed = self.seed,\n",
    "            workers = multiprocessing.cpu_count(),\n",
    "            size = self.num_features,\n",
    "            min_count = self.min_word_count,\n",
    "            window = self.context_size,\n",
    "            sample = self.downsampling\n",
    "        )\n",
    "\n",
    "        # Build the vocabulary\n",
    "        self.tweet2vec.build_vocab(self.sentences)\n",
    "        # Train the model\n",
    "        self.tweet2vec.train(self.sentences, epochs = 12, total_examples = len(self.sentences))\n",
    "\n",
    "    def run(self):\n",
    "        self.preprocess_tweets()\n",
    "        self.make_model()"
   ]
  },
  {
   "cell_type": "code",
   "execution_count": null,
   "metadata": {},
   "outputs": [],
   "source": [
    "df = pd.read_csv('datasets/balanced_data.csv',index_col=False,sep=',')\n",
    "df.head()"
   ]
  },
  {
   "cell_type": "code",
   "execution_count": null,
   "metadata": {},
   "outputs": [],
   "source": [
    "def clean_data(text):\n",
    "    import re\n",
    "    HASHTAGS_REGEX = re.compile('#')\n",
    "    text = HASHTAGS_REGEX.sub('', text)\n",
    "\n",
    "    MENTIONS_REGEX = re.compile('@[^\\s]+')\n",
    "    text = MENTIONS_REGEX.sub('', text)\n",
    "    \n",
    "    LINK_REGEX = re.compile('https?://[^\\s]+')\n",
    "    text = LINK_REGEX.sub('', text)\n",
    "\n",
    "    puncs = '!\"$%^&*()_+~-={}|[]\\:\";<>,.?/'+'0123456789'\n",
    "    temp = str.maketrans(dict.fromkeys(puncs,\"\"))\n",
    "    text=text.translate(temp)\n",
    "    \n",
    "    temp= str.maketrans(dict.fromkeys(\"'`\",\"\")) #to preserve can't as cant\n",
    "    text = text.translate(temp)\n",
    "    \n",
    "    clean_text = re.sub(u'[\\u007B-\\uFFFF]','',text)\n",
    "    return clean_text.lower()\n",
    "\n",
    "df.text = df.text.map(clean_data)\n",
    "df.head()"
   ]
  },
  {
   "cell_type": "code",
   "execution_count": null,
   "metadata": {},
   "outputs": [],
   "source": [
    "tot_classes = len(set(df.emoji))\n",
    "print(tot_classes)"
   ]
  },
  {
   "cell_type": "markdown",
   "metadata": {},
   "source": [
    "## Training word-embeddings"
   ]
  },
  {
   "cell_type": "code",
   "execution_count": null,
   "metadata": {},
   "outputs": [],
   "source": [
    "w2vec = word2vec(tweets = df.text, num_features=100, min_word_count=3,context_size=5,downsampling=1e-3,seed=1,epochs=1000)\n",
    "w2vec.run()"
   ]
  },
  {
   "cell_type": "code",
   "execution_count": null,
   "metadata": {},
   "outputs": [],
   "source": [
    "# w = 'red'\n",
    "# print(w2vec.tweet2vec.wv.most_similar(positive=w))"
   ]
  },
  {
   "cell_type": "code",
   "execution_count": null,
   "metadata": {},
   "outputs": [],
   "source": [
    "tweets = list(df.text)\n",
    "labels = list(df.emoji)\n",
    "\n",
    "N = int(0.9*len(tweets))\n",
    "\n",
    "all_train_tweets = tweets[:N]\n",
    "all_train_labels = labels[:N]\n",
    "\n",
    "test_tweets = tweets[N:]\n",
    "test_labels = labels[N:]\n",
    "\n",
    "val_N = int(0.9*len(all_train_tweets))\n",
    "\n",
    "train_tweets = all_train_tweets[:val_N]\n",
    "train_labels = all_train_labels[:val_N]\n",
    "\n",
    "val_tweets = all_train_tweets[val_N:]\n",
    "val_labels = all_train_labels[val_N:]"
   ]
  },
  {
   "cell_type": "code",
   "execution_count": null,
   "metadata": {},
   "outputs": [],
   "source": [
    "all_tweets = train_tweets + val_tweets + test_tweets\n",
    "max_length = math.ceil(sum([len(s.split(\" \")) for s in all_tweets])/len(all_tweets))"
   ]
  },
  {
   "cell_type": "code",
   "execution_count": null,
   "metadata": {},
   "outputs": [],
   "source": [
    "def encode_docs(tweets):\n",
    "    #Translate tweets to sequence of numbers\n",
    "    tokenizer = Tokenizer(filters='!\"#$%&()*+,-./:;<=>?@[\\\\]^_`{|}~\\t\\n', split=\" \", lower=True)\n",
    "    tokenizer.fit_on_texts(tweets)\n",
    "    return tokenizer, tokenizer.texts_to_sequences(tweets)"
   ]
  },
  {
   "cell_type": "code",
   "execution_count": null,
   "metadata": {},
   "outputs": [],
   "source": [
    "def populate_weight_matrix(vocab, raw_embedding):\n",
    "    # Create weight matrix from pre-trained embeddings\n",
    "    vocab_size = len(vocab) + 1\n",
    "    weight_matrix = np.zeros((vocab_size, 100))\n",
    "    for word, i in vocab.items():\n",
    "        if word in raw_embedding:\n",
    "            weight_matrix[i] = raw_embedding[word]\n",
    "    return weight_matrix"
   ]
  },
  {
   "cell_type": "code",
   "execution_count": null,
   "metadata": {},
   "outputs": [],
   "source": [
    "tokenizer, encoded_docs = encode_docs(all_tweets)\n",
    "temp_train = pad_sequences(encoded_docs[:len(train_tweets)], maxlen=max_length, padding='post')\n",
    "temp_val = pad_sequences(encoded_docs[len(train_tweets):len(train_tweets+val_tweets)], maxlen=max_length, padding='post')\n",
    "temp_test = pad_sequences(encoded_docs[-len(test_tweets):], maxlen=max_length, padding='post')\n",
    "temp_all_train = pad_sequences(encoded_docs[:len(all_train_tweets)], maxlen=max_length, padding='post')"
   ]
  },
  {
   "cell_type": "code",
   "execution_count": null,
   "metadata": {},
   "outputs": [],
   "source": [
    "vocab = tokenizer.word_index\n",
    "weight_matrix = populate_weight_matrix(vocab, w2vec.tweet2vec.wv)"
   ]
  },
  {
   "cell_type": "markdown",
   "metadata": {},
   "source": [
    "## BiLSTM Model "
   ]
  },
  {
   "cell_type": "code",
   "execution_count": null,
   "metadata": {},
   "outputs": [],
   "source": [
    "y_train = np_utils.to_categorical(train_labels, tot_classes)\n",
    "y_val = np_utils.to_categorical(val_labels, tot_classes)\n",
    "embedding_layer = Embedding(len(vocab) + 1, 100, weights=[weight_matrix], input_length=max_length, trainable=True, mask_zero=True)\n",
    "model_rnn = Sequential()\n",
    "model_rnn.add(embedding_layer)\n",
    "model_rnn.add(Bidirectional(LSTM(128, dropout=0.2, return_sequences=True)))\n",
    "model_rnn.add(Bidirectional(LSTM(128, dropout=0.2)))\n",
    "model_rnn.add(Dense(200, activation='relu', input_dim=256))\n",
    "model_rnn.add(Dropout(0.5))\n",
    "model_rnn.add(Dense(100, activation='relu'))\n",
    "model_rnn.add(Dropout(0.25))\n",
    "model_rnn.add(Dense(tot_classes, activation='softmax'))\n",
    "adam = keras.optimizers.Adam(learning_rate=0.001, beta_1=0.99, beta_2=0.999)\n",
    "\n",
    "model_rnn.compile(loss='categorical_crossentropy',\n",
    "              optimizer=adam,\n",
    "              metrics=['accuracy'])\n",
    "model_rnn.summary()"
   ]
  },
  {
   "cell_type": "code",
   "execution_count": null,
   "metadata": {},
   "outputs": [],
   "source": [
    "history = model_rnn.fit(temp_train, y_train, epochs=4, validation_data=(temp_val, y_val),batch_size=temp_train.shape[0]//100)"
   ]
  },
  {
   "cell_type": "code",
   "execution_count": null,
   "metadata": {},
   "outputs": [],
   "source": [
    "bilstm_pred = model_rnn.predict_classes(temp_test)\n",
    "calculate_performance_metrics(test_labels,bilstm_pred,p_average=\"weighted\",\n",
    "                              r_average=\"weighted\",f1_average=\"weighted\",normalize_cm=\"true\",figsize=(7,7))"
   ]
  }
 ],
 "metadata": {
  "kernelspec": {
   "display_name": "Python 3",
   "language": "python",
   "name": "python3"
  },
  "language_info": {
   "codemirror_mode": {
    "name": "ipython",
    "version": 3
   },
   "file_extension": ".py",
   "mimetype": "text/x-python",
   "name": "python",
   "nbconvert_exporter": "python",
   "pygments_lexer": "ipython3",
   "version": "3.7.7"
  }
 },
 "nbformat": 4,
 "nbformat_minor": 2
}
